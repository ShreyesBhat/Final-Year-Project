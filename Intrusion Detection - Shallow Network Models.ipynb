{
 "cells": [
  {
   "cell_type": "code",
   "execution_count": 1,
   "metadata": {},
   "outputs": [],
   "source": [
    "import tensorflow as tf"
   ]
  },
  {
   "cell_type": "code",
   "execution_count": 2,
   "metadata": {},
   "outputs": [
    {
     "name": "stderr",
     "output_type": "stream",
     "text": [
      "Using TensorFlow backend.\n"
     ]
    }
   ],
   "source": [
    "import keras\n",
    "from keras import callbacks"
   ]
  },
  {
   "cell_type": "code",
   "execution_count": 36,
   "metadata": {},
   "outputs": [],
   "source": [
    "from keras.models import Sequential\n",
    "from keras.layers import Embedding, Flatten, Dropout, Dense, Activation"
   ]
  },
  {
   "cell_type": "code",
   "execution_count": 37,
   "metadata": {},
   "outputs": [],
   "source": [
    "import numpy as np\n",
    "import pandas as pd\n",
    "from keras.utils import normalize\n",
    "\n",
    "train, test = pd.read_csv('kdd/binary/Training.csv'), pd.read_csv('kdd/binary/Testing.csv')\n",
    "\n",
    "X,Y = train.iloc[:,1:42], train.iloc[:,0] #data, labels\n",
    "C,T = test.iloc[:,0], test.iloc[:,1:42]"
   ]
  },
  {
   "cell_type": "code",
   "execution_count": 5,
   "metadata": {},
   "outputs": [],
   "source": [
    "x_tr, x_te = np.array(X).astype(float), np.array(T).astype(float)"
   ]
  },
  {
   "cell_type": "code",
   "execution_count": 6,
   "metadata": {},
   "outputs": [
    {
     "data": {
      "text/plain": [
       "array([[0.  , 1.  , 1.  , ..., 0.  , 0.  , 0.  ],\n",
       "       [0.  , 1.  , 1.  , ..., 0.  , 0.  , 0.  ],\n",
       "       [0.  , 1.  , 1.  , ..., 0.  , 0.  , 0.  ],\n",
       "       ...,\n",
       "       [0.  , 1.  , 1.  , ..., 0.01, 0.  , 0.  ],\n",
       "       [0.  , 1.  , 1.  , ..., 0.01, 0.  , 0.  ],\n",
       "       [0.  , 1.  , 1.  , ..., 0.01, 0.  , 0.  ]])"
      ]
     },
     "execution_count": 6,
     "metadata": {},
     "output_type": "execute_result"
    }
   ],
   "source": [
    "x_tr"
   ]
  },
  {
   "cell_type": "code",
   "execution_count": 7,
   "metadata": {},
   "outputs": [],
   "source": [
    "x_tr = normalize(x_tr) #normalize to zero one scale\n",
    "x_te = normalize(x_te)"
   ]
  },
  {
   "cell_type": "code",
   "execution_count": 9,
   "metadata": {},
   "outputs": [
    {
     "name": "stdout",
     "output_type": "stream",
     "text": [
      "('X_Tr : ', array([[0.00000000e+00, 1.84373540e-03, 1.84373540e-03, ...,\n",
      "        0.00000000e+00, 0.00000000e+00, 0.00000000e+00],\n",
      "       [0.00000000e+00, 7.36287997e-04, 7.36287997e-04, ...,\n",
      "        0.00000000e+00, 0.00000000e+00, 0.00000000e+00],\n",
      "       [0.00000000e+00, 7.37480373e-04, 7.37480373e-04, ...,\n",
      "        0.00000000e+00, 0.00000000e+00, 0.00000000e+00],\n",
      "       ...,\n",
      "       [0.00000000e+00, 8.04035169e-04, 8.04035169e-04, ...,\n",
      "        8.04035169e-06, 0.00000000e+00, 0.00000000e+00],\n",
      "       [0.00000000e+00, 7.92909963e-04, 7.92909963e-04, ...,\n",
      "        7.92909963e-06, 0.00000000e+00, 0.00000000e+00],\n",
      "       [0.00000000e+00, 7.81573245e-04, 7.81573245e-04, ...,\n",
      "        7.81573245e-06, 0.00000000e+00, 0.00000000e+00]]), '\\nX_Te : ', array([[ 0.,  2., 24., ...,  0.,  0.,  0.],\n",
      "       [ 0.,  2., 24., ...,  0.,  0.,  0.],\n",
      "       [ 0.,  2., 24., ...,  0.,  0.,  0.],\n",
      "       ...,\n",
      "       [ 0.,  2., 24., ...,  0.,  0.,  0.],\n",
      "       [ 0.,  2., 24., ...,  0.,  0.,  0.],\n",
      "       [ 0.,  2., 24., ...,  0.,  0.,  0.]]))\n"
     ]
    }
   ],
   "source": [
    "print(\"X_Tr : \", x_tr,\"\\nX_Te : \",x_te)"
   ]
  },
  {
   "cell_type": "code",
   "execution_count": 10,
   "metadata": {},
   "outputs": [],
   "source": [
    "y_tr, y_te = np.array(Y), np.array(C)"
   ]
  },
  {
   "cell_type": "code",
   "execution_count": 11,
   "metadata": {},
   "outputs": [
    {
     "data": {
      "text/plain": [
       "numpy.ndarray"
      ]
     },
     "execution_count": 11,
     "metadata": {},
     "output_type": "execute_result"
    }
   ],
   "source": [
    "type(x_tr) #confirm types before building network"
   ]
  },
  {
   "cell_type": "code",
   "execution_count": 16,
   "metadata": {},
   "outputs": [
    {
     "data": {
      "text/plain": [
       "(41,)"
      ]
     },
     "execution_count": 16,
     "metadata": {},
     "output_type": "execute_result"
    }
   ],
   "source": [
    "x_tr[0].shape #pass this as param for input shape"
   ]
  },
  {
   "cell_type": "code",
   "execution_count": 35,
   "metadata": {},
   "outputs": [
    {
     "name": "stdout",
     "output_type": "stream",
     "text": [
      "Model Name :  1-hidden_layers-1024-lowest_node-dnn-1571088673\n",
      "[<keras.layers.core.Dense object at 0x7feeead07c50>, <keras.layers.core.Activation object at 0x7fef608098d0>, <keras.layers.core.Dropout object at 0x7feeead07e50>, <keras.layers.core.Dense object at 0x7feeead07e10>, <keras.layers.core.Activation object at 0x7fef280c7bd0>]\n",
      "Epoch 1/10\n",
      "494020/494020 [==============================] - 17s 34us/step - loss: 0.0267 - acc: 0.9896\n",
      "Epoch 2/10\n",
      "494020/494020 [==============================] - 16s 33us/step - loss: 0.0112 - acc: 0.9970\n",
      "Epoch 3/10\n",
      "494020/494020 [==============================] - 18s 36us/step - loss: 0.0090 - acc: 0.9973\n",
      "Epoch 4/10\n",
      "494020/494020 [==============================] - 17s 34us/step - loss: 0.0080 - acc: 0.9975\n",
      "Epoch 5/10\n",
      "494020/494020 [==============================] - 16s 33us/step - loss: 0.0071 - acc: 0.9978\n",
      "Epoch 6/10\n",
      "494020/494020 [==============================] - 17s 34us/step - loss: 0.0066 - acc: 0.9980\n",
      "Epoch 7/10\n",
      "494020/494020 [==============================] - 18s 36us/step - loss: 0.0061 - acc: 0.9981\n",
      "Epoch 8/10\n",
      "494020/494020 [==============================] - 17s 34us/step - loss: 0.0056 - acc: 0.9982\n",
      "Epoch 9/10\n",
      "494020/494020 [==============================] - 17s 34us/step - loss: 0.0053 - acc: 0.9983\n",
      "Epoch 10/10\n",
      "494020/494020 [==============================] - 18s 36us/step - loss: 0.0051 - acc: 0.9985\n",
      "Model 1-hidden_layers-1024-lowest_node-dnn-1571088673 saved \n",
      "\n",
      "Model Name :  1-hidden_layers-768-lowest_node-dnn-1571088845\n",
      "[<keras.layers.core.Dense object at 0x7fef280c7510>, <keras.layers.core.Activation object at 0x7feeead38550>, <keras.layers.core.Dropout object at 0x7feeead383d0>, <keras.layers.core.Dense object at 0x7feeead078d0>, <keras.layers.core.Activation object at 0x7feeea988890>, <keras.layers.core.Dropout object at 0x7feeea956310>, <keras.layers.core.Dense object at 0x7feeead07a50>, <keras.layers.core.Activation object at 0x7feeea9a0d50>]\n",
      "Epoch 1/10\n",
      "494020/494020 [==============================] - 105s 212us/step - loss: 0.0144 - acc: 0.9952\n",
      "Epoch 2/10\n",
      "494020/494020 [==============================] - 109s 220us/step - loss: 0.0075 - acc: 0.9978\n",
      "Epoch 3/10\n",
      "494020/494020 [==============================] - 111s 225us/step - loss: 0.0061 - acc: 0.9982\n",
      "Epoch 4/10\n",
      "494020/494020 [==============================] - 113s 229us/step - loss: 0.0054 - acc: 0.9984\n",
      "Epoch 5/10\n",
      "494020/494020 [==============================] - 108s 218us/step - loss: 0.0047 - acc: 0.9986\n",
      "Epoch 6/10\n",
      "494020/494020 [==============================] - 108s 218us/step - loss: 0.0044 - acc: 0.9987\n",
      "Epoch 7/10\n",
      "494020/494020 [==============================] - 106s 215us/step - loss: 0.0041 - acc: 0.9988\n",
      "Epoch 8/10\n",
      "494020/494020 [==============================] - 104s 210us/step - loss: 0.0038 - acc: 0.9989\n",
      "Epoch 9/10\n",
      "494020/494020 [==============================] - 101s 205us/step - loss: 0.0036 - acc: 0.9989\n",
      "Epoch 10/10\n",
      "494020/494020 [==============================] - 103s 207us/step - loss: 0.0034 - acc: 0.9990\n",
      "Model 1-hidden_layers-768-lowest_node-dnn-1571088845 saved \n",
      "\n",
      "Model Name :  2-hidden_layers-512-lowest_node-dnn-1571089912\n",
      "[<keras.layers.core.Dense object at 0x7feeea92a610>, <keras.layers.core.Activation object at 0x7feeea8c5fd0>, <keras.layers.core.Dropout object at 0x7feeea44f510>, <keras.layers.core.Dense object at 0x7feeea44f290>, <keras.layers.core.Activation object at 0x7feeea4c0490>, <keras.layers.core.Dropout object at 0x7feeea4c04d0>, <keras.layers.core.Dense object at 0x7feeea8e9fd0>, <keras.layers.core.Activation object at 0x7feeea4677d0>, <keras.layers.core.Dropout object at 0x7feeea5323d0>, <keras.layers.core.Dense object at 0x7feeea44f3d0>, <keras.layers.core.Activation object at 0x7feeea467f10>]\n",
      "Epoch 1/10\n",
      "494020/494020 [==============================] - 145s 293us/step - loss: 0.0134 - acc: 0.9957\n",
      "Epoch 2/10\n",
      "494020/494020 [==============================] - 139s 282us/step - loss: 0.0073 - acc: 0.9978\n",
      "Epoch 3/10\n",
      "494020/494020 [==============================] - 147s 297us/step - loss: 0.0062 - acc: 0.9981\n",
      "Epoch 4/10\n",
      "494020/494020 [==============================] - 142s 287us/step - loss: 0.0053 - acc: 0.9984\n",
      "Epoch 5/10\n",
      "494020/494020 [==============================] - 143s 290us/step - loss: 0.0049 - acc: 0.9986\n",
      "Epoch 6/10\n",
      "494020/494020 [==============================] - 144s 291us/step - loss: 0.0045 - acc: 0.9987\n",
      "Epoch 7/10\n",
      "494020/494020 [==============================] - 140s 283us/step - loss: 0.0042 - acc: 0.9988\n",
      "Epoch 8/10\n",
      "494020/494020 [==============================] - 141s 285us/step - loss: 0.0039 - acc: 0.9989\n",
      "Epoch 9/10\n",
      "494020/494020 [==============================] - 141s 286us/step - loss: 0.0037 - acc: 0.9989\n",
      "Epoch 10/10\n",
      "494020/494020 [==============================] - 141s 285us/step - loss: 0.0034 - acc: 0.9990\n",
      "Model 2-hidden_layers-512-lowest_node-dnn-1571089912 saved \n",
      "\n",
      "Model Name :  3-hidden_layers-256-lowest_node-dnn-1571091336\n",
      "[<keras.layers.core.Dense object at 0x7feee9fc8c10>, <keras.layers.core.Activation object at 0x7feee9e48cd0>, <keras.layers.core.Dropout object at 0x7feee9e484d0>, <keras.layers.core.Dense object at 0x7feee9e48150>, <keras.layers.core.Activation object at 0x7feee9e55b10>, <keras.layers.core.Dropout object at 0x7feee9e71610>, <keras.layers.core.Dense object at 0x7feee9e71f10>, <keras.layers.core.Activation object at 0x7feee9e28150>, <keras.layers.core.Dropout object at 0x7feee9e28a90>, <keras.layers.core.Dense object at 0x7feee9e28ed0>, <keras.layers.core.Activation object at 0x7feee9e11950>, <keras.layers.core.Dropout object at 0x7feee9de63d0>, <keras.layers.core.Dense object at 0x7feee9e48810>, <keras.layers.core.Activation object at 0x7feee9d9ed50>]\n",
      "Epoch 1/10\n",
      "494020/494020 [==============================] - 149s 301us/step - loss: 0.0138 - acc: 0.9956\n",
      "Epoch 2/10\n",
      "494020/494020 [==============================] - 145s 294us/step - loss: 0.0077 - acc: 0.9977\n",
      "Epoch 3/10\n",
      "494020/494020 [==============================] - 147s 298us/step - loss: 0.0064 - acc: 0.9982\n",
      "Epoch 4/10\n",
      "494020/494020 [==============================] - 152s 308us/step - loss: 0.0056 - acc: 0.9984\n",
      "Epoch 5/10\n",
      "494020/494020 [==============================] - 151s 305us/step - loss: 0.0050 - acc: 0.9985\n",
      "Epoch 6/10\n",
      "494020/494020 [==============================] - 151s 307us/step - loss: 0.0045 - acc: 0.9987\n",
      "Epoch 7/10\n",
      "494020/494020 [==============================] - 152s 308us/step - loss: 0.0044 - acc: 0.9987\n",
      "Epoch 8/10\n",
      "494020/494020 [==============================] - 147s 298us/step - loss: 0.0042 - acc: 0.9988\n",
      "Epoch 9/10\n",
      "494020/494020 [==============================] - 145s 294us/step - loss: 0.0038 - acc: 0.9989\n",
      "Epoch 10/10\n",
      "494020/494020 [==============================] - 146s 295us/step - loss: 0.0041 - acc: 0.9987\n",
      "Model 3-hidden_layers-256-lowest_node-dnn-1571091336 saved \n",
      "\n",
      "Model Name :  4-hidden_layers-128-lowest_node-dnn-1571092823\n",
      "[<keras.layers.core.Dense object at 0x7feee96c7d10>, <keras.layers.core.Activation object at 0x7feee96c89d0>, <keras.layers.core.Dropout object at 0x7feee96c8650>, <keras.layers.core.Dense object at 0x7feee96c8790>, <keras.layers.core.Activation object at 0x7feee96c8950>, <keras.layers.core.Dropout object at 0x7feee97bd1d0>, <keras.layers.core.Dense object at 0x7feee97bd9d0>, <keras.layers.core.Activation object at 0x7feee96ec490>, <keras.layers.core.Dropout object at 0x7feee96ecdd0>, <keras.layers.core.Dense object at 0x7feee96ecd50>, <keras.layers.core.Activation object at 0x7feee96a8710>, <keras.layers.core.Dropout object at 0x7feee96a8fd0>, <keras.layers.core.Dense object at 0x7feee96d6c90>, <keras.layers.core.Activation object at 0x7feee96a8e50>, <keras.layers.core.Dropout object at 0x7feee967a190>, <keras.layers.core.Dense object at 0x7feee96c8310>, <keras.layers.core.Activation object at 0x7feee9630bd0>]\n",
      "Epoch 1/10\n",
      "494020/494020 [==============================] - 155s 314us/step - loss: 0.0147 - acc: 0.9953\n",
      "Epoch 2/10\n",
      "494020/494020 [==============================] - 153s 310us/step - loss: 0.0079 - acc: 0.9977\n",
      "Epoch 3/10\n",
      "494020/494020 [==============================] - 154s 311us/step - loss: 0.0070 - acc: 0.9980\n",
      "Epoch 4/10\n",
      "494020/494020 [==============================] - 153s 310us/step - loss: 0.0060 - acc: 0.9982\n",
      "Epoch 5/10\n",
      "494020/494020 [==============================] - 144s 292us/step - loss: 0.0055 - acc: 0.9984\n",
      "Epoch 6/10\n",
      "494020/494020 [==============================] - 144s 292us/step - loss: 0.0047 - acc: 0.9987\n",
      "Epoch 7/10\n",
      "494020/494020 [==============================] - 144s 292us/step - loss: 0.0048 - acc: 0.9987\n",
      "Epoch 8/10\n",
      "494020/494020 [==============================] - 145s 293us/step - loss: 0.0046 - acc: 0.9988\n",
      "Epoch 9/10\n",
      "494020/494020 [==============================] - 146s 295us/step - loss: 0.0042 - acc: 0.9988\n",
      "Epoch 10/10\n",
      "494020/494020 [==============================] - 145s 294us/step - loss: 0.0039 - acc: 0.9989\n",
      "Model 4-hidden_layers-128-lowest_node-dnn-1571092823 saved \n",
      "\n"
     ]
    }
   ],
   "source": [
    "from keras.callbacks import ModelCheckpoint\n",
    "def build_model(): #build all shallow networks in one function\n",
    "    \n",
    "    import time\n",
    "    dense_layers = [1024,768, 512, 256, 128]\n",
    "    i=1\n",
    "    for layer in dense_layers :\n",
    "        \n",
    "        model= Sequential()\n",
    "\n",
    "        model.add(Dense(1024, input_shape=x_tr[0].shape ))\n",
    "        model.add(Activation('relu'))\n",
    "        model.add(Dropout(0.01))\n",
    "        \n",
    "        if layer!=1024:\n",
    "            for i in range(1,dense_layers.index(layer)+1):\n",
    "                model.add(Dense(dense_layers[i]))\n",
    "                model.add(Activation('relu'))\n",
    "                model.add(Dropout(0.01))\n",
    "        \n",
    "        MODEL_NAME = \"{}-hidden_layers-{}-lowest_node-dnn-{}\".format(i, layer, int(time.time()))\n",
    "        \n",
    "        model.add(Dense(1))\n",
    "        model.add(Activation('sigmoid'))\n",
    "        \n",
    "        print (\"Model Name : \", MODEL_NAME)\n",
    "        print model.layers #check model layers before building\n",
    "        ckpt = ModelCheckpoint(\"best_acc_weights.hdf5\",save_weights_only = True, save_best_only = True, monitor = \"val_acc\")\n",
    "        model.compile(loss='binary_crossentropy', optimizer='adam', metrics=['accuracy'],callbacks = [ckpt]) #adam is used to optimize the threshold weights\n",
    "        model.fit(x_tr, y_tr, validation_data= (x_te, y_te), batch_size=128, epochs=10)\n",
    "        model.save(MODEL_NAME)\n",
    "        print (\"Model {} saved \\n\").format(MODEL_NAME)\n",
    "    \n",
    "build_model()"
   ]
  },
  {
   "cell_type": "code",
   "execution_count": 38,
   "metadata": {},
   "outputs": [],
   "source": [
    "def calc_accuracy(): #calculate all accuracies in one function\n",
    "    \n",
    "    import sklearn.metrics\n",
    "    from sklearn.metrics import (precision_score, recall_score, f1_score, accuracy_score, mean_squared_error, mean_absolute_error, roc_curve, classification_report, auc)\n",
    "    \n",
    "    pred_results = [1,2,3,4,5]\n",
    "    train_data = pd.read_csv('dnnres/expected.txt', header=None)\n",
    "    \n",
    "    for item in pred_results:\n",
    "        \n",
    "        file_name = 'dnnres/dnn{}predicted.txt'.format(item)\n",
    "        test_data = pd.read_csv(file_name, header=None)\n",
    "        \n",
    "        y_actual, y_predicted = train_data, test_data\n",
    "        \n",
    "        accuracy = accuracy_score(y_actual, y_predicted)\n",
    "        recall = recall_score(y_actual, y_predicted, average='binary')\n",
    "        precision = precision_score(y_actual, y_predicted, average='binary')\n",
    "        f1 = f1_score(y_actual, y_predicted, average='binary')\n",
    "        \n",
    "        print (\"{} layer results : \").format(item)\n",
    "        print (\"Accuracy : %.3f\" %accuracy)\n",
    "        print (\"Precision : %.3f\" %precision)\n",
    "        print (\"Recall : %.3f\" %recall)\n",
    "        print (\"F1 score : %.3f\" %f1)\n",
    "        print (\"*******************************\\n\\n\")"
   ]
  },
  {
   "cell_type": "code",
   "execution_count": 39,
   "metadata": {},
   "outputs": [
    {
     "name": "stdout",
     "output_type": "stream",
     "text": [
      "1 layer results : \n",
      "Accuracy : 0.929\n",
      "Precision : 0.998\n",
      "Recall : 0.915\n",
      "F1 score : 0.954\n",
      "*******************************\n",
      "\n",
      "\n",
      "2 layer results : \n",
      "Accuracy : 0.929\n",
      "Precision : 0.998\n",
      "Recall : 0.914\n",
      "F1 score : 0.954\n",
      "*******************************\n",
      "\n",
      "\n",
      "3 layer results : \n",
      "Accuracy : 0.930\n",
      "Precision : 0.997\n",
      "Recall : 0.915\n",
      "F1 score : 0.955\n",
      "*******************************\n",
      "\n",
      "\n",
      "4 layer results : \n",
      "Accuracy : 0.929\n",
      "Precision : 0.999\n",
      "Recall : 0.913\n",
      "F1 score : 0.954\n",
      "*******************************\n",
      "\n",
      "\n",
      "5 layer results : \n",
      "Accuracy : 0.927\n",
      "Precision : 0.998\n",
      "Recall : 0.911\n",
      "F1 score : 0.953\n",
      "*******************************\n",
      "\n",
      "\n"
     ]
    }
   ],
   "source": [
    "calc_accuracy()"
   ]
  },
  {
   "cell_type": "code",
   "execution_count": null,
   "metadata": {},
   "outputs": [],
   "source": []
  }
 ],
 "metadata": {
  "kernelspec": {
   "display_name": "Python 3",
   "language": "python",
   "name": "python3"
  },
  "language_info": {
   "codemirror_mode": {
    "name": "ipython",
    "version": 3
   },
   "file_extension": ".py",
   "mimetype": "text/x-python",
   "name": "python",
   "nbconvert_exporter": "python",
   "pygments_lexer": "ipython3",
   "version": "3.7.4"
  }
 },
 "nbformat": 4,
 "nbformat_minor": 2
}
