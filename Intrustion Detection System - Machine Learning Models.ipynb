{
 "cells": [
  {
   "cell_type": "code",
   "execution_count": 1,
   "metadata": {},
   "outputs": [],
   "source": [
    "import numpy as np \n",
    "import pandas as pd\n",
    "\n",
    "from sklearn.linear_model import SGDClassifier\n",
    "from sklearn import svm\n",
    "from sklearn.linear_model import LogisticRegression\n",
    "from sklearn.naive_bayes import GaussianNB\n",
    "\n",
    "from sklearn.tree import DecisionTreeClassifier\n",
    "from sklearn.ensemble import RandomForestClassifier\n",
    "\n",
    "from sklearn.preprocessing import Normalizer\n",
    "\n",
    "from sklearn.svm import SVC\n",
    "\n",
    "from sklearn.metrics import (precision_score, recall_score,f1_score, accuracy_score)"
   ]
  },
  {
   "cell_type": "code",
   "execution_count": 2,
   "metadata": {},
   "outputs": [],
   "source": [
    "from sklearn.model_selection import train_test_split"
   ]
  },
  {
   "cell_type": "code",
   "execution_count": 3,
   "metadata": {},
   "outputs": [],
   "source": [
    "traindata = pd.read_csv('kdd/binary/Training.csv', header=None)\n",
    "testdata = pd.read_csv('kdd/binary/Testing.csv', header=None)\n",
    "\n",
    "X,Y = traindata.iloc[:,1:42], traindata.iloc[:,0]\n",
    "C,T = testdata.iloc[:,0] ,testdata.iloc[:,1:42]\n",
    "\n",
    "scaler = Normalizer().fit(X)\n",
    "trainX = scaler.transform(X) #scale / normalize X.\n",
    "\n",
    "traindata = np.array(trainX) #convert to np array()\n",
    "trainlabel = np.array(Y) #convert to np array()\n",
    "\n",
    "scaler = Normalizer().fit(T) #scale/ normalize x_te\n",
    "testT = scaler.transform(T) \n",
    "\n",
    "testdata = np.array(testT) #convert to np array()\n",
    "testlabel = np.array(C) #convert to np array()"
   ]
  },
  {
   "cell_type": "code",
   "execution_count": 13,
   "metadata": {},
   "outputs": [
    {
     "name": "stderr",
     "output_type": "stream",
     "text": [
      "C:\\Users\\shrey\\Anaconda3\\lib\\site-packages\\sklearn\\linear_model\\logistic.py:432: FutureWarning: Default solver will be changed to 'lbfgs' in 0.22. Specify a solver to silence this warning.\n",
      "  FutureWarning)\n"
     ]
    },
    {
     "name": "stdout",
     "output_type": "stream",
     "text": [
      "LR model built in 2.756 s\n",
      "NB model built in 3.513 s\n",
      "Decision Tree model built in 10.389 s\n",
      "Random Forest model built in 76.226 s\n",
      "Logistic Regression  :\n",
      "Accuracy :  0.8480720447289481\n",
      "Recall :  0.8208444472839368\n",
      "Precision :  0.988521610340649\n",
      "F1 Score :  0.89691355870085\n",
      "**************************************\n",
      "\n",
      "Naive Bayes :\n",
      "Accuracy :  0.9294695992978147\n",
      "Recall :  0.9232418661853727\n",
      "Precision :  0.9883980900024366\n",
      "F1 Score :  0.9547095876439777\n",
      "**************************************\n",
      "\n",
      "Decision Trees :\n",
      "Accuracy :  0.9300676142739102\n",
      "Recall :  0.9144052771965692\n",
      "Precision :  0.9986263436757299\n",
      "F1 Score :  0.9546618975260083\n",
      "**************************************\n",
      "\n",
      "Ensemble Model : Random Forest :\n",
      "Accuracy :  0.926505245491578\n",
      "Recall :  0.9098811672443259\n",
      "Precision :  0.9987289454191631\n",
      "F1 Score :  0.9522370782690093\n",
      "**************************************\n",
      "\n"
     ]
    }
   ],
   "source": [
    "import time\n",
    "classifiers = [\"Logistic Regression \", \"Naive Bayes\", \"Decision Trees\", \"Ensemble Model : Random Forest\"]\n",
    "classifier_deets = []\n",
    "\n",
    "#Logistic\n",
    "start = time.time()\n",
    "lr_model = LogisticRegression()\n",
    "lr_model.fit(traindata, trainlabel)\n",
    "print(\"LR model built in\",round(time.time()-start,3),\"s\")\n",
    "expected = testlabel\n",
    "lr_predicted = lr_model.predict(testdata)\n",
    "lr_proba = lr_model.predict_proba(testdata)\n",
    "\n",
    "y_train1 = expected\n",
    "y_pred = lr_predicted\n",
    "\n",
    "accuracy = accuracy_score(y_train1, y_pred)\n",
    "recall = recall_score(y_train1, y_pred , average=\"binary\")\n",
    "precision = precision_score(y_train1, y_pred , average=\"binary\")\n",
    "f1 = f1_score(y_train1, y_pred, average=\"binary\")\n",
    "\n",
    "classifier_deets.append([accuracy, recall, precision, f1]) #acc, rec, pre, f1. Print in that order.\n",
    "\n",
    "#Naive Bayes\n",
    "\n",
    "\n",
    "nb_model = GaussianNB()\n",
    "nb_model.fit(traindata, trainlabel)\n",
    "print(\"NB model built in\",round(time.time()-start,3),\"s\")\n",
    "expected = testlabel\n",
    "nb_predicted = nb_model.predict(testdata)\n",
    "nb_proba = nb_model.predict_proba(testdata)\n",
    "\n",
    "y_train1 = expected\n",
    "y_pred = nb_predicted\n",
    "\n",
    "accuracy = accuracy_score(y_train1, y_pred)\n",
    "recall = recall_score(y_train1, y_pred , average=\"binary\")\n",
    "precision = precision_score(y_train1, y_pred , average=\"binary\")\n",
    "f1 = f1_score(y_train1, y_pred, average=\"binary\")\n",
    "\n",
    "classifier_deets.append([accuracy, recall, precision, f1])\n",
    "\n",
    "# DT\n",
    "\n",
    "\n",
    "dt_model = DecisionTreeClassifier()\n",
    "dt_model.fit(traindata, trainlabel)\n",
    "print(\"Decision Tree model built in\",round(time.time()-start,3),\"s\")\n",
    "expected = testlabel\n",
    "dt_predicted = dt_model.predict(testdata)\n",
    "dt_proba = dt_model.predict_proba(testdata)\n",
    "\n",
    "y_train1 = expected\n",
    "y_pred = dt_predicted\n",
    "\n",
    "accuracy = accuracy_score(y_train1, y_pred)\n",
    "recall = recall_score(y_train1, y_pred , average=\"binary\")\n",
    "precision = precision_score(y_train1, y_pred , average=\"binary\")\n",
    "f1 = f1_score(y_train1, y_pred, average=\"binary\")\n",
    "\n",
    "classifier_deets.append([accuracy, recall, precision, f1])\n",
    "\n",
    "# RF\n",
    "\n",
    "start=time.time()\n",
    "rf_model = RandomForestClassifier(n_estimators = 150)\n",
    "rf_model.fit(traindata, trainlabel)\n",
    "print(\"Random Forest model built in\",round(time.time()-start,3),\"s\")\n",
    "expected = testlabel\n",
    "rf_predicted = rf_model.predict(testdata)\n",
    "rf_proba = rf_model.predict_proba(testdata)\n",
    "\n",
    "y_train1 = expected\n",
    "y_pred = rf_predicted\n",
    "\n",
    "accuracy = accuracy_score(y_train1, y_pred)\n",
    "recall = recall_score(y_train1, y_pred , average=\"binary\")\n",
    "precision = precision_score(y_train1, y_pred , average=\"binary\")\n",
    "f1 = f1_score(y_train1, y_pred, average=\"binary\")\n",
    "\n",
    "classifier_deets.append([accuracy, recall, precision, f1])\n",
    "\n",
    "for i in range(len(classifiers)):\n",
    "    print(classifiers[i],\":\")\n",
    "    print(\"Accuracy : \", classifier_deets[i][0])\n",
    "    print(\"Recall : \", classifier_deets[i][1])\n",
    "    print(\"Precision : \", classifier_deets[i][2])\n",
    "    print(\"F1 Score : \", classifier_deets[i][3])\n",
    "    print(\"**************************************\\n\")"
   ]
  },
  {
   "cell_type": "code",
   "execution_count": 10,
   "metadata": {},
   "outputs": [
    {
     "data": {
      "text/plain": [
       "(494021, 41)"
      ]
     },
     "execution_count": 10,
     "metadata": {},
     "output_type": "execute_result"
    }
   ],
   "source": [
    "traindata.shape"
   ]
  },
  {
   "cell_type": "code",
   "execution_count": 11,
   "metadata": {},
   "outputs": [
    {
     "data": {
      "text/plain": [
       "(311029, 41)"
      ]
     },
     "execution_count": 11,
     "metadata": {},
     "output_type": "execute_result"
    }
   ],
   "source": [
    "testdata.shape"
   ]
  },
  {
   "cell_type": "code",
   "execution_count": 23,
   "metadata": {},
   "outputs": [
    {
     "data": {
      "text/html": [
       "<div>\n",
       "<style scoped>\n",
       "    .dataframe tbody tr th:only-of-type {\n",
       "        vertical-align: middle;\n",
       "    }\n",
       "\n",
       "    .dataframe tbody tr th {\n",
       "        vertical-align: top;\n",
       "    }\n",
       "\n",
       "    .dataframe thead th {\n",
       "        text-align: right;\n",
       "    }\n",
       "</style>\n",
       "<table border=\"1\" class=\"dataframe\">\n",
       "  <thead>\n",
       "    <tr style=\"text-align: right;\">\n",
       "      <th></th>\n",
       "      <th>Accuracy</th>\n",
       "      <th>Recall</th>\n",
       "      <th>Precision</th>\n",
       "      <th>F1 Score</th>\n",
       "    </tr>\n",
       "  </thead>\n",
       "  <tbody>\n",
       "    <tr>\n",
       "      <td>LR</td>\n",
       "      <td>0.848072</td>\n",
       "      <td>0.820844</td>\n",
       "      <td>0.988522</td>\n",
       "      <td>0.896914</td>\n",
       "    </tr>\n",
       "    <tr>\n",
       "      <td>NB</td>\n",
       "      <td>0.929470</td>\n",
       "      <td>0.923242</td>\n",
       "      <td>0.988398</td>\n",
       "      <td>0.954710</td>\n",
       "    </tr>\n",
       "    <tr>\n",
       "      <td>DT</td>\n",
       "      <td>0.930068</td>\n",
       "      <td>0.914405</td>\n",
       "      <td>0.998626</td>\n",
       "      <td>0.954662</td>\n",
       "    </tr>\n",
       "    <tr>\n",
       "      <td>RF</td>\n",
       "      <td>0.926505</td>\n",
       "      <td>0.909881</td>\n",
       "      <td>0.998729</td>\n",
       "      <td>0.952237</td>\n",
       "    </tr>\n",
       "  </tbody>\n",
       "</table>\n",
       "</div>"
      ],
      "text/plain": [
       "    Accuracy    Recall  Precision  F1 Score\n",
       "LR  0.848072  0.820844   0.988522  0.896914\n",
       "NB  0.929470  0.923242   0.988398  0.954710\n",
       "DT  0.930068  0.914405   0.998626  0.954662\n",
       "RF  0.926505  0.909881   0.998729  0.952237"
      ]
     },
     "execution_count": 23,
     "metadata": {},
     "output_type": "execute_result"
    }
   ],
   "source": [
    "labels = ['LR','NB','DT','RF']\n",
    "acc,rec,pre,f1 = [],[],[],[]\n",
    "for i in range(len(classifier_deets)):\n",
    "    acc.append(classifier_deets[i][0])\n",
    "    rec.append(classifier_deets[i][1])\n",
    "    pre.append(classifier_deets[i][2])\n",
    "    f1.append(classifier_deets[i][3])\n",
    "df = pd.DataFrame(zip(acc,rec,pre,f1),index = labels,columns = ['Accuracy','Recall','Precision','F1 Score'])\n",
    "df"
   ]
  },
  {
   "cell_type": "code",
   "execution_count": 46,
   "metadata": {},
   "outputs": [
    {
     "data": {
      "text/plain": [
       "<matplotlib.axes._subplots.AxesSubplot at 0x1c3018ec608>"
      ]
     },
     "execution_count": 46,
     "metadata": {},
     "output_type": "execute_result"
    },
    {
     "data": {
      "image/png": "[encoded data removed]",
      "text/plain": [
       "<Figure size 640x480 with 1 Axes>"
      ]
     },
     "metadata": {},
     "output_type": "display_data"
    }
   ],
   "source": [
    "import matplotlib.pyplot as plt\n",
    "import seaborn as sns\n",
    "plt.figure(num=None, figsize=(8, 6), dpi=80, facecolor='w', edgecolor='k')\n",
    "plt.xlim(0.8,0.95)\n",
    "sns.barplot(x=\"Accuracy\", y=labels, data=df)"
   ]
  },
  {
   "cell_type": "code",
   "execution_count": 43,
   "metadata": {},
   "outputs": [
    {
     "data": {
      "text/plain": [
       "<matplotlib.axes._subplots.AxesSubplot at 0x1c3017c1188>"
      ]
     },
     "execution_count": 43,
     "metadata": {},
     "output_type": "execute_result"
    },
    {
     "data": {
      "image/png": "[encoded data removed]",
      "text/plain": [
       "<Figure size 640x480 with 1 Axes>"
      ]
     },
     "metadata": {},
     "output_type": "display_data"
    }
   ],
   "source": [
    "plt.figure(num=None, figsize=(8, 6), dpi=80, facecolor='w', edgecolor='k')\n",
    "plt.xlim(0.8,1.0)\n",
    "sns.barplot(x=\"F1 Score\", y=labels, data=df)"
   ]
  },
  {
   "cell_type": "code",
   "execution_count": null,
   "metadata": {},
   "outputs": [],
   "source": []
  }
 ],
 "metadata": {
  "kernelspec": {
   "display_name": "Python 3",
   "language": "python",
   "name": "python3"
  },
  "language_info": {
   "codemirror_mode": {
    "name": "ipython",
    "version": 3
   },
   "file_extension": ".py",
   "mimetype": "text/x-python",
   "name": "python",
   "nbconvert_exporter": "python",
   "pygments_lexer": "ipython3",
   "version": "3.7.4"
  }
 },
 "nbformat": 4,
 "nbformat_minor": 2
}
